{
 "cells": [
  {
   "cell_type": "markdown",
   "metadata": {},
   "source": [
    "Based on the image provided, the perceptron algorithm is defined in its primal form, with key steps outlined. Here's how the algorithm can be translated into Python:\n",
    "\n",
    "---\n",
    "\n",
    "### **Algorithm Details**\n",
    "1. **Initialization**:\n",
    "   - Set $ w_0 = 0 $, $ b_0 = 0 $, and $ k = 0 $.\n",
    "   - Calculate $ R $, the maximum norm of the input vectors $ x_i $.\n",
    "\n",
    "2. **Iterative Updates**:\n",
    "   - Loop through the training set $ S $ until no mistakes are made.\n",
    "   - For each sample $ x_i $, check if it is misclassified:\n",
    "     $\n",
    "     y_i \\left( w_k \\cdot x_i + b_k \\right) \\leq 0\n",
    "     $\n",
    "   - If misclassified:\n",
    "     - Update $ w $: \n",
    "       $\n",
    "       w_{k+1} = w_k + \\eta y_i x_i\n",
    "       $\n",
    "     - Update $ b $: \n",
    "       $\n",
    "       b_{k+1} = b_k + \\eta y_i R^2\n",
    "       $\n",
    "     - Increment $ k $ (number of mistakes).\n",
    "\n",
    "3. **Stop Condition**:\n",
    "   - Terminate when there are no mistakes in a complete pass through the dataset.\n",
    "\n",
    "4. **Return the Final Model**:\n",
    "   - Output $ (w_k, b_k) $, where $ k $ is the total number of mistakes.\n"
   ]
  },
  {
   "cell_type": "code",
   "execution_count": null,
   "metadata": {
    "vscode": {
     "languageId": "plaintext"
    }
   },
   "outputs": [],
   "source": []
  },
  {
   "cell_type": "markdown",
   "metadata": {},
   "source": [
    "### **Explanation of the Code**\n",
    "1. **Initialization**:\n",
    "   - Weights and bias are initialized to 0.\n",
    "   - $ R $ is calculated using the maximum norm of the input data.\n",
    "\n",
    "2. **Training**:\n",
    "   - The algorithm iterates through the dataset, checking for misclassified points.\n",
    "   - If a point is misclassified, the weights and bias are updated.\n",
    "\n",
    "3. **Prediction**:\n",
    "   - Use the sign of the weighted sum $ w \\cdot x + b $ to determine the class ($+1$ or $-1$).\n",
    "\n",
    "4. **Stopping Criterion**:\n",
    "   - The loop terminates once the perceptron makes no mistakes in a full pass.\n",
    "\n",
    "\n",
    "### **Expected Output**\n",
    "For the example dataset provided, the perceptron will converge to a solution with weights and bias that correctly classify all points. The number of mistakes gives an idea of how quickly the model learned the decision boundary.\n"
   ]
  },
  {
   "cell_type": "markdown",
   "metadata": {},
   "source": []
  }
 ],
 "metadata": {
  "language_info": {
   "name": "python"
  }
 },
 "nbformat": 4,
 "nbformat_minor": 2
}
